{
  "nbformat": 4,
  "nbformat_minor": 0,
  "metadata": {
    "colab": {
      "provenance": [],
      "authorship_tag": "ABX9TyN17pOPubQV12Bf3e/Lvm+4",
      "include_colab_link": true
    },
    "kernelspec": {
      "name": "python3",
      "display_name": "Python 3"
    },
    "language_info": {
      "name": "python"
    }
  },
  "cells": [
    {
      "cell_type": "markdown",
      "metadata": {
        "id": "view-in-github",
        "colab_type": "text"
      },
      "source": [
        "<a href=\"https://colab.research.google.com/github/nicmelo/bootcamp-data-science-2023/blob/main/ETL_com_Python.ipynb\" target=\"_parent\"><img src=\"https://colab.research.google.com/assets/colab-badge.svg\" alt=\"Open In Colab\"/></a>"
      ]
    },
    {
      "cell_type": "markdown",
      "source": [
        "## **Atividade 1: ETL com Python.**\n",
        "#### **Proposta pessoal**: a partir das bases de dados de leads gerados através de tráfego pago (em diferentes canais) de uma loja virtual no mês de setembro, e de clientes que compraram nessa loja no mesmo mês, construir uma terceira base de dados contendo apenas os leads que foram convertidos em setembro, seus dados demográficos e quanto gastaram na loja.\n"
      ],
      "metadata": {
        "id": "lAk5iwqJTAov"
      }
    },
    {
      "cell_type": "markdown",
      "source": [
        "## Extract"
      ],
      "metadata": {
        "id": "1GdUgAR4VkEc"
      }
    },
    {
      "cell_type": "markdown",
      "source": [
        "*   Importação da biblioteca Pandas\n",
        "*   Upload das bases a serem extraídas e determinação dos arquivos de saída (carregamento)\n",
        "* Leitura das bases de extração"
      ],
      "metadata": {
        "id": "kjTK4sN5V36U"
      }
    },
    {
      "cell_type": "code",
      "execution_count": 4,
      "metadata": {
        "id": "_ZiRqU4Pcpi_"
      },
      "outputs": [],
      "source": [
        "import pandas as pd\n",
        "\n",
        "arquivo_entrada_1 = 'Base_leads_setembro.csv'\n",
        "arquivo_entrada_2 = 'Base_clientes_setembro.csv'\n",
        "arquivo_intermediário = 'Dados_padronizados.csv'\n",
        "arquivo_saída = 'Leads_convertidos.csv'\n",
        "\n",
        "dados = pd.read_csv(arquivo_entrada_1)\n",
        "dados_2 = pd.read_csv(arquivo_entrada_2)"
      ]
    },
    {
      "cell_type": "markdown",
      "source": [
        "## Transform"
      ],
      "metadata": {
        "id": "QUjRa6rkW4Pz"
      }
    },
    {
      "cell_type": "markdown",
      "source": [
        "*   Conversão do primeiro caractere de cada string nas colunas \"Nome\" e \"Sobrenome\" da planilha de leads para padronização dos dados.\n",
        "*   Carregamento dos dados padronizados em um arquivo intermediário."
      ],
      "metadata": {
        "id": "RbHr6ITkW_U2"
      }
    },
    {
      "cell_type": "code",
      "source": [
        "dados['Nome'] = dados['Nome'].str.capitalize()\n",
        "dados['Sobrenome'] = dados['Sobrenome'].str.capitalize()\n",
        "\n",
        "dados.to_csv(arquivo_intermediário, index=False)\n",
        "\n",
        "print(f'Dados transformados salvos em {arquivo_intermediário}')"
      ],
      "metadata": {
        "colab": {
          "base_uri": "https://localhost:8080/"
        },
        "id": "kdeMIF0PAjpX",
        "outputId": "3669f226-ad2c-4f71-bf0b-5f960c2add5b"
      },
      "execution_count": 5,
      "outputs": [
        {
          "output_type": "stream",
          "name": "stdout",
          "text": [
            "Dados transformados salvos em Dados_padronizados.csv\n"
          ]
        }
      ]
    },
    {
      "cell_type": "markdown",
      "source": [
        "*   Leitura do novo arquivo de dados de leads.\n",
        "*   Mesclagem das tabelas de leads e de novos clientes mantendo apenas os dados das pessoas que constam em ambas as bases (ou seja, excluindo novos clientes que não sejam leads de setembro)."
      ],
      "metadata": {
        "id": "Xapg5bxZXye4"
      }
    },
    {
      "cell_type": "code",
      "source": [
        "dados_3 = pd.read_csv(arquivo_intermediário)\n",
        "\n",
        "pd.merge(dados_3, dados_2, how = \"inner\")"
      ],
      "metadata": {
        "colab": {
          "base_uri": "https://localhost:8080/",
          "height": 175
        },
        "id": "5cgbsun2CIoY",
        "outputId": "599ff286-0d6e-42e2-f305-9d463e575320"
      },
      "execution_count": 6,
      "outputs": [
        {
          "output_type": "execute_result",
          "data": {
            "text/plain": [
              "     Nome Sobrenome          Telefone   \"Idade\"        \"Cidade\"  \\\n",
              "0  Laíssa     Silva  (11) 96002-1003         32       São Paulo   \n",
              "1    Cauê  Ferreira   (11) 97002-1004        22       São Paulo   \n",
              "2   Carol     Alves   (21) 98003-1005        30  Rio de Janeiro   \n",
              "3   Preto    Sombra   (21) 99004-1006        33  Rio de Janeiro   \n",
              "\n",
              "   \"Gasto em compras\"  \n",
              "0             R$ 1000  \n",
              "1              R$ 700  \n",
              "2              R$ 800  \n",
              "3              R$ 300  "
            ],
            "text/html": [
              "\n",
              "  <div id=\"df-133e1894-88b2-46b6-86f6-322eaca867c8\" class=\"colab-df-container\">\n",
              "    <div>\n",
              "<style scoped>\n",
              "    .dataframe tbody tr th:only-of-type {\n",
              "        vertical-align: middle;\n",
              "    }\n",
              "\n",
              "    .dataframe tbody tr th {\n",
              "        vertical-align: top;\n",
              "    }\n",
              "\n",
              "    .dataframe thead th {\n",
              "        text-align: right;\n",
              "    }\n",
              "</style>\n",
              "<table border=\"1\" class=\"dataframe\">\n",
              "  <thead>\n",
              "    <tr style=\"text-align: right;\">\n",
              "      <th></th>\n",
              "      <th>Nome</th>\n",
              "      <th>Sobrenome</th>\n",
              "      <th>Telefone</th>\n",
              "      <th>\"Idade\"</th>\n",
              "      <th>\"Cidade\"</th>\n",
              "      <th>\"Gasto em compras\"</th>\n",
              "    </tr>\n",
              "  </thead>\n",
              "  <tbody>\n",
              "    <tr>\n",
              "      <th>0</th>\n",
              "      <td>Laíssa</td>\n",
              "      <td>Silva</td>\n",
              "      <td>(11) 96002-1003</td>\n",
              "      <td>32</td>\n",
              "      <td>São Paulo</td>\n",
              "      <td>R$ 1000</td>\n",
              "    </tr>\n",
              "    <tr>\n",
              "      <th>1</th>\n",
              "      <td>Cauê</td>\n",
              "      <td>Ferreira</td>\n",
              "      <td>(11) 97002-1004</td>\n",
              "      <td>22</td>\n",
              "      <td>São Paulo</td>\n",
              "      <td>R$ 700</td>\n",
              "    </tr>\n",
              "    <tr>\n",
              "      <th>2</th>\n",
              "      <td>Carol</td>\n",
              "      <td>Alves</td>\n",
              "      <td>(21) 98003-1005</td>\n",
              "      <td>30</td>\n",
              "      <td>Rio de Janeiro</td>\n",
              "      <td>R$ 800</td>\n",
              "    </tr>\n",
              "    <tr>\n",
              "      <th>3</th>\n",
              "      <td>Preto</td>\n",
              "      <td>Sombra</td>\n",
              "      <td>(21) 99004-1006</td>\n",
              "      <td>33</td>\n",
              "      <td>Rio de Janeiro</td>\n",
              "      <td>R$ 300</td>\n",
              "    </tr>\n",
              "  </tbody>\n",
              "</table>\n",
              "</div>\n",
              "    <div class=\"colab-df-buttons\">\n",
              "\n",
              "  <div class=\"colab-df-container\">\n",
              "    <button class=\"colab-df-convert\" onclick=\"convertToInteractive('df-133e1894-88b2-46b6-86f6-322eaca867c8')\"\n",
              "            title=\"Convert this dataframe to an interactive table.\"\n",
              "            style=\"display:none;\">\n",
              "\n",
              "  <svg xmlns=\"http://www.w3.org/2000/svg\" height=\"24px\" viewBox=\"0 -960 960 960\">\n",
              "    <path d=\"M120-120v-720h720v720H120Zm60-500h600v-160H180v160Zm220 220h160v-160H400v160Zm0 220h160v-160H400v160ZM180-400h160v-160H180v160Zm440 0h160v-160H620v160ZM180-180h160v-160H180v160Zm440 0h160v-160H620v160Z\"/>\n",
              "  </svg>\n",
              "    </button>\n",
              "\n",
              "  <style>\n",
              "    .colab-df-container {\n",
              "      display:flex;\n",
              "      gap: 12px;\n",
              "    }\n",
              "\n",
              "    .colab-df-convert {\n",
              "      background-color: #E8F0FE;\n",
              "      border: none;\n",
              "      border-radius: 50%;\n",
              "      cursor: pointer;\n",
              "      display: none;\n",
              "      fill: #1967D2;\n",
              "      height: 32px;\n",
              "      padding: 0 0 0 0;\n",
              "      width: 32px;\n",
              "    }\n",
              "\n",
              "    .colab-df-convert:hover {\n",
              "      background-color: #E2EBFA;\n",
              "      box-shadow: 0px 1px 2px rgba(60, 64, 67, 0.3), 0px 1px 3px 1px rgba(60, 64, 67, 0.15);\n",
              "      fill: #174EA6;\n",
              "    }\n",
              "\n",
              "    .colab-df-buttons div {\n",
              "      margin-bottom: 4px;\n",
              "    }\n",
              "\n",
              "    [theme=dark] .colab-df-convert {\n",
              "      background-color: #3B4455;\n",
              "      fill: #D2E3FC;\n",
              "    }\n",
              "\n",
              "    [theme=dark] .colab-df-convert:hover {\n",
              "      background-color: #434B5C;\n",
              "      box-shadow: 0px 1px 3px 1px rgba(0, 0, 0, 0.15);\n",
              "      filter: drop-shadow(0px 1px 2px rgba(0, 0, 0, 0.3));\n",
              "      fill: #FFFFFF;\n",
              "    }\n",
              "  </style>\n",
              "\n",
              "    <script>\n",
              "      const buttonEl =\n",
              "        document.querySelector('#df-133e1894-88b2-46b6-86f6-322eaca867c8 button.colab-df-convert');\n",
              "      buttonEl.style.display =\n",
              "        google.colab.kernel.accessAllowed ? 'block' : 'none';\n",
              "\n",
              "      async function convertToInteractive(key) {\n",
              "        const element = document.querySelector('#df-133e1894-88b2-46b6-86f6-322eaca867c8');\n",
              "        const dataTable =\n",
              "          await google.colab.kernel.invokeFunction('convertToInteractive',\n",
              "                                                    [key], {});\n",
              "        if (!dataTable) return;\n",
              "\n",
              "        const docLinkHtml = 'Like what you see? Visit the ' +\n",
              "          '<a target=\"_blank\" href=https://colab.research.google.com/notebooks/data_table.ipynb>data table notebook</a>'\n",
              "          + ' to learn more about interactive tables.';\n",
              "        element.innerHTML = '';\n",
              "        dataTable['output_type'] = 'display_data';\n",
              "        await google.colab.output.renderOutput(dataTable, element);\n",
              "        const docLink = document.createElement('div');\n",
              "        docLink.innerHTML = docLinkHtml;\n",
              "        element.appendChild(docLink);\n",
              "      }\n",
              "    </script>\n",
              "  </div>\n",
              "\n",
              "\n",
              "<div id=\"df-8582075d-8caa-46c2-9981-9e42bbe38611\">\n",
              "  <button class=\"colab-df-quickchart\" onclick=\"quickchart('df-8582075d-8caa-46c2-9981-9e42bbe38611')\"\n",
              "            title=\"Suggest charts.\"\n",
              "            style=\"display:none;\">\n",
              "\n",
              "<svg xmlns=\"http://www.w3.org/2000/svg\" height=\"24px\"viewBox=\"0 0 24 24\"\n",
              "     width=\"24px\">\n",
              "    <g>\n",
              "        <path d=\"M19 3H5c-1.1 0-2 .9-2 2v14c0 1.1.9 2 2 2h14c1.1 0 2-.9 2-2V5c0-1.1-.9-2-2-2zM9 17H7v-7h2v7zm4 0h-2V7h2v10zm4 0h-2v-4h2v4z\"/>\n",
              "    </g>\n",
              "</svg>\n",
              "  </button>\n",
              "\n",
              "<style>\n",
              "  .colab-df-quickchart {\n",
              "      --bg-color: #E8F0FE;\n",
              "      --fill-color: #1967D2;\n",
              "      --hover-bg-color: #E2EBFA;\n",
              "      --hover-fill-color: #174EA6;\n",
              "      --disabled-fill-color: #AAA;\n",
              "      --disabled-bg-color: #DDD;\n",
              "  }\n",
              "\n",
              "  [theme=dark] .colab-df-quickchart {\n",
              "      --bg-color: #3B4455;\n",
              "      --fill-color: #D2E3FC;\n",
              "      --hover-bg-color: #434B5C;\n",
              "      --hover-fill-color: #FFFFFF;\n",
              "      --disabled-bg-color: #3B4455;\n",
              "      --disabled-fill-color: #666;\n",
              "  }\n",
              "\n",
              "  .colab-df-quickchart {\n",
              "    background-color: var(--bg-color);\n",
              "    border: none;\n",
              "    border-radius: 50%;\n",
              "    cursor: pointer;\n",
              "    display: none;\n",
              "    fill: var(--fill-color);\n",
              "    height: 32px;\n",
              "    padding: 0;\n",
              "    width: 32px;\n",
              "  }\n",
              "\n",
              "  .colab-df-quickchart:hover {\n",
              "    background-color: var(--hover-bg-color);\n",
              "    box-shadow: 0 1px 2px rgba(60, 64, 67, 0.3), 0 1px 3px 1px rgba(60, 64, 67, 0.15);\n",
              "    fill: var(--button-hover-fill-color);\n",
              "  }\n",
              "\n",
              "  .colab-df-quickchart-complete:disabled,\n",
              "  .colab-df-quickchart-complete:disabled:hover {\n",
              "    background-color: var(--disabled-bg-color);\n",
              "    fill: var(--disabled-fill-color);\n",
              "    box-shadow: none;\n",
              "  }\n",
              "\n",
              "  .colab-df-spinner {\n",
              "    border: 2px solid var(--fill-color);\n",
              "    border-color: transparent;\n",
              "    border-bottom-color: var(--fill-color);\n",
              "    animation:\n",
              "      spin 1s steps(1) infinite;\n",
              "  }\n",
              "\n",
              "  @keyframes spin {\n",
              "    0% {\n",
              "      border-color: transparent;\n",
              "      border-bottom-color: var(--fill-color);\n",
              "      border-left-color: var(--fill-color);\n",
              "    }\n",
              "    20% {\n",
              "      border-color: transparent;\n",
              "      border-left-color: var(--fill-color);\n",
              "      border-top-color: var(--fill-color);\n",
              "    }\n",
              "    30% {\n",
              "      border-color: transparent;\n",
              "      border-left-color: var(--fill-color);\n",
              "      border-top-color: var(--fill-color);\n",
              "      border-right-color: var(--fill-color);\n",
              "    }\n",
              "    40% {\n",
              "      border-color: transparent;\n",
              "      border-right-color: var(--fill-color);\n",
              "      border-top-color: var(--fill-color);\n",
              "    }\n",
              "    60% {\n",
              "      border-color: transparent;\n",
              "      border-right-color: var(--fill-color);\n",
              "    }\n",
              "    80% {\n",
              "      border-color: transparent;\n",
              "      border-right-color: var(--fill-color);\n",
              "      border-bottom-color: var(--fill-color);\n",
              "    }\n",
              "    90% {\n",
              "      border-color: transparent;\n",
              "      border-bottom-color: var(--fill-color);\n",
              "    }\n",
              "  }\n",
              "</style>\n",
              "\n",
              "  <script>\n",
              "    async function quickchart(key) {\n",
              "      const quickchartButtonEl =\n",
              "        document.querySelector('#' + key + ' button');\n",
              "      quickchartButtonEl.disabled = true;  // To prevent multiple clicks.\n",
              "      quickchartButtonEl.classList.add('colab-df-spinner');\n",
              "      try {\n",
              "        const charts = await google.colab.kernel.invokeFunction(\n",
              "            'suggestCharts', [key], {});\n",
              "      } catch (error) {\n",
              "        console.error('Error during call to suggestCharts:', error);\n",
              "      }\n",
              "      quickchartButtonEl.classList.remove('colab-df-spinner');\n",
              "      quickchartButtonEl.classList.add('colab-df-quickchart-complete');\n",
              "    }\n",
              "    (() => {\n",
              "      let quickchartButtonEl =\n",
              "        document.querySelector('#df-8582075d-8caa-46c2-9981-9e42bbe38611 button');\n",
              "      quickchartButtonEl.style.display =\n",
              "        google.colab.kernel.accessAllowed ? 'block' : 'none';\n",
              "    })();\n",
              "  </script>\n",
              "</div>\n",
              "    </div>\n",
              "  </div>\n"
            ]
          },
          "metadata": {},
          "execution_count": 6
        }
      ]
    },
    {
      "cell_type": "markdown",
      "source": [
        "## Load"
      ],
      "metadata": {
        "id": "020XSVkjYmRh"
      }
    },
    {
      "cell_type": "markdown",
      "source": [
        "*   Geração do arquivo contendo as informações dos leads convertidos através de publicidade no mês de setembro.\n"
      ],
      "metadata": {
        "id": "bDnREkM8YsOg"
      }
    },
    {
      "cell_type": "code",
      "source": [
        "dados.to_csv(arquivo_saída, index=False)\n",
        "\n",
        "print(f'Dados transformados salvos em {arquivo_saída}')"
      ],
      "metadata": {
        "colab": {
          "base_uri": "https://localhost:8080/"
        },
        "id": "JWPqY7iWCiZu",
        "outputId": "96db406b-958b-4816-ef88-85f63d6ebdd1"
      },
      "execution_count": 40,
      "outputs": [
        {
          "output_type": "stream",
          "name": "stdout",
          "text": [
            "Dados transformados salvos em Leads_convertidos.csv\n"
          ]
        }
      ]
    }
  ]
}